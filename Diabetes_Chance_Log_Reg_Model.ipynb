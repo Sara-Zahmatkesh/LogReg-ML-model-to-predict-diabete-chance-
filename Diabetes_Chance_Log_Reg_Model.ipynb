{
 "cells": [
  {
   "cell_type": "markdown",
   "id": "2c2bc6a2",
   "metadata": {},
   "source": [
    "# Logistic Regression Exercise "
   ]
  },
  {
   "cell_type": "code",
   "execution_count": 1,
   "id": "8b9bc1dd",
   "metadata": {},
   "outputs": [],
   "source": [
    "import pandas as pd \n",
    "import numpy as np \n",
    "import matplotlib.pyplot as plt \n",
    "import seaborn as sns \n",
    "from sklearn import metrics \n",
    "from sklearn.model_selection import train_test_split \n",
    "from sklearn.linear_model import LogisticRegression \n",
    "from sklearn.metrics import confusion_matrix\n",
    "from sklearn.metrics import classification_report"
   ]
  },
  {
   "cell_type": "code",
   "execution_count": 2,
   "id": "9798ff7a",
   "metadata": {},
   "outputs": [
    {
     "data": {
      "text/html": [
       "<div>\n",
       "<style scoped>\n",
       "    .dataframe tbody tr th:only-of-type {\n",
       "        vertical-align: middle;\n",
       "    }\n",
       "\n",
       "    .dataframe tbody tr th {\n",
       "        vertical-align: top;\n",
       "    }\n",
       "\n",
       "    .dataframe thead th {\n",
       "        text-align: right;\n",
       "    }\n",
       "</style>\n",
       "<table border=\"1\" class=\"dataframe\">\n",
       "  <thead>\n",
       "    <tr style=\"text-align: right;\">\n",
       "      <th></th>\n",
       "      <th>Pregnancies</th>\n",
       "      <th>Glucose</th>\n",
       "      <th>BloodPressure</th>\n",
       "      <th>SkinThickness</th>\n",
       "      <th>Insulin</th>\n",
       "      <th>BMI</th>\n",
       "      <th>DiabetesPedigreeFunction</th>\n",
       "      <th>Age</th>\n",
       "      <th>Outcome</th>\n",
       "    </tr>\n",
       "  </thead>\n",
       "  <tbody>\n",
       "    <tr>\n",
       "      <th>0</th>\n",
       "      <td>6</td>\n",
       "      <td>148</td>\n",
       "      <td>72</td>\n",
       "      <td>35</td>\n",
       "      <td>0</td>\n",
       "      <td>33.6</td>\n",
       "      <td>0.627</td>\n",
       "      <td>50</td>\n",
       "      <td>1</td>\n",
       "    </tr>\n",
       "    <tr>\n",
       "      <th>1</th>\n",
       "      <td>1</td>\n",
       "      <td>85</td>\n",
       "      <td>66</td>\n",
       "      <td>29</td>\n",
       "      <td>0</td>\n",
       "      <td>26.6</td>\n",
       "      <td>0.351</td>\n",
       "      <td>31</td>\n",
       "      <td>0</td>\n",
       "    </tr>\n",
       "    <tr>\n",
       "      <th>2</th>\n",
       "      <td>8</td>\n",
       "      <td>183</td>\n",
       "      <td>64</td>\n",
       "      <td>0</td>\n",
       "      <td>0</td>\n",
       "      <td>23.3</td>\n",
       "      <td>0.672</td>\n",
       "      <td>32</td>\n",
       "      <td>1</td>\n",
       "    </tr>\n",
       "    <tr>\n",
       "      <th>3</th>\n",
       "      <td>1</td>\n",
       "      <td>89</td>\n",
       "      <td>66</td>\n",
       "      <td>23</td>\n",
       "      <td>94</td>\n",
       "      <td>28.1</td>\n",
       "      <td>0.167</td>\n",
       "      <td>21</td>\n",
       "      <td>0</td>\n",
       "    </tr>\n",
       "    <tr>\n",
       "      <th>4</th>\n",
       "      <td>0</td>\n",
       "      <td>137</td>\n",
       "      <td>40</td>\n",
       "      <td>35</td>\n",
       "      <td>168</td>\n",
       "      <td>43.1</td>\n",
       "      <td>2.288</td>\n",
       "      <td>33</td>\n",
       "      <td>1</td>\n",
       "    </tr>\n",
       "    <tr>\n",
       "      <th>...</th>\n",
       "      <td>...</td>\n",
       "      <td>...</td>\n",
       "      <td>...</td>\n",
       "      <td>...</td>\n",
       "      <td>...</td>\n",
       "      <td>...</td>\n",
       "      <td>...</td>\n",
       "      <td>...</td>\n",
       "      <td>...</td>\n",
       "    </tr>\n",
       "    <tr>\n",
       "      <th>763</th>\n",
       "      <td>10</td>\n",
       "      <td>101</td>\n",
       "      <td>76</td>\n",
       "      <td>48</td>\n",
       "      <td>180</td>\n",
       "      <td>32.9</td>\n",
       "      <td>0.171</td>\n",
       "      <td>63</td>\n",
       "      <td>0</td>\n",
       "    </tr>\n",
       "    <tr>\n",
       "      <th>764</th>\n",
       "      <td>2</td>\n",
       "      <td>122</td>\n",
       "      <td>70</td>\n",
       "      <td>27</td>\n",
       "      <td>0</td>\n",
       "      <td>36.8</td>\n",
       "      <td>0.340</td>\n",
       "      <td>27</td>\n",
       "      <td>0</td>\n",
       "    </tr>\n",
       "    <tr>\n",
       "      <th>765</th>\n",
       "      <td>5</td>\n",
       "      <td>121</td>\n",
       "      <td>72</td>\n",
       "      <td>23</td>\n",
       "      <td>112</td>\n",
       "      <td>26.2</td>\n",
       "      <td>0.245</td>\n",
       "      <td>30</td>\n",
       "      <td>0</td>\n",
       "    </tr>\n",
       "    <tr>\n",
       "      <th>766</th>\n",
       "      <td>1</td>\n",
       "      <td>126</td>\n",
       "      <td>60</td>\n",
       "      <td>0</td>\n",
       "      <td>0</td>\n",
       "      <td>30.1</td>\n",
       "      <td>0.349</td>\n",
       "      <td>47</td>\n",
       "      <td>1</td>\n",
       "    </tr>\n",
       "    <tr>\n",
       "      <th>767</th>\n",
       "      <td>1</td>\n",
       "      <td>93</td>\n",
       "      <td>70</td>\n",
       "      <td>31</td>\n",
       "      <td>0</td>\n",
       "      <td>30.4</td>\n",
       "      <td>0.315</td>\n",
       "      <td>23</td>\n",
       "      <td>0</td>\n",
       "    </tr>\n",
       "  </tbody>\n",
       "</table>\n",
       "<p>768 rows × 9 columns</p>\n",
       "</div>"
      ],
      "text/plain": [
       "     Pregnancies  Glucose  BloodPressure  SkinThickness  Insulin   BMI  \\\n",
       "0              6      148             72             35        0  33.6   \n",
       "1              1       85             66             29        0  26.6   \n",
       "2              8      183             64              0        0  23.3   \n",
       "3              1       89             66             23       94  28.1   \n",
       "4              0      137             40             35      168  43.1   \n",
       "..           ...      ...            ...            ...      ...   ...   \n",
       "763           10      101             76             48      180  32.9   \n",
       "764            2      122             70             27        0  36.8   \n",
       "765            5      121             72             23      112  26.2   \n",
       "766            1      126             60              0        0  30.1   \n",
       "767            1       93             70             31        0  30.4   \n",
       "\n",
       "     DiabetesPedigreeFunction  Age  Outcome  \n",
       "0                       0.627   50        1  \n",
       "1                       0.351   31        0  \n",
       "2                       0.672   32        1  \n",
       "3                       0.167   21        0  \n",
       "4                       2.288   33        1  \n",
       "..                        ...  ...      ...  \n",
       "763                     0.171   63        0  \n",
       "764                     0.340   27        0  \n",
       "765                     0.245   30        0  \n",
       "766                     0.349   47        1  \n",
       "767                     0.315   23        0  \n",
       "\n",
       "[768 rows x 9 columns]"
      ]
     },
     "execution_count": 2,
     "metadata": {},
     "output_type": "execute_result"
    }
   ],
   "source": [
    "data = pd.read_csv (\"diabetes.csv\")       # Diabetes diagnoize data \n",
    "data"
   ]
  },
  {
   "cell_type": "code",
   "execution_count": 3,
   "id": "ccfff11c",
   "metadata": {},
   "outputs": [],
   "source": [
    "x = pd.DataFrame (data, columns = ['Pregnancies','Glucose','BloodPressure','SkinThickness','Insulin','BMI','DiabetesPedigreeFunction','Age'])\n",
    "y = data.Outcome"
   ]
  },
  {
   "cell_type": "code",
   "execution_count": 4,
   "id": "f436cfb4",
   "metadata": {},
   "outputs": [],
   "source": [
    "x_train, x_test, y_train, y_test = train_test_split ( x , y , test_size = 0.25, random_state = 0)"
   ]
  },
  {
   "cell_type": "markdown",
   "id": "e5cb36bf",
   "metadata": {},
   "source": [
    "**In scikit-learn's logistic regression implementation, the solver parameter specifies the algorithm to use in the optimization problem. Each solver has its advantages and is suitable for different scenarios depending on the size of the dataset, sparsity of features, and computational resources available. The choice of solver can impact the convergence speed, memory usage, and performance of the logistic regression model. Experimentation may be necessary to determine the most suitable solver for a specific problem.**\n",
    "\n",
    "<span style=\"color:orange\">**Solver = liblinear** \n",
    "- This solver is suitable for small datasets and is the default choice for logistic regression in scikit-learn.\n",
    "- It uses a coordinate descent (CD) algorithm, which is based on minimizing the logistic loss using L1 regularization.\n",
    "- 'liblinear' supports both L1 and L2 regularization."
   ]
  },
  {
   "cell_type": "code",
   "execution_count": 5,
   "id": "55dff176",
   "metadata": {},
   "outputs": [
    {
     "data": {
      "text/html": [
       "<style>#sk-container-id-1 {color: black;}#sk-container-id-1 pre{padding: 0;}#sk-container-id-1 div.sk-toggleable {background-color: white;}#sk-container-id-1 label.sk-toggleable__label {cursor: pointer;display: block;width: 100%;margin-bottom: 0;padding: 0.3em;box-sizing: border-box;text-align: center;}#sk-container-id-1 label.sk-toggleable__label-arrow:before {content: \"▸\";float: left;margin-right: 0.25em;color: #696969;}#sk-container-id-1 label.sk-toggleable__label-arrow:hover:before {color: black;}#sk-container-id-1 div.sk-estimator:hover label.sk-toggleable__label-arrow:before {color: black;}#sk-container-id-1 div.sk-toggleable__content {max-height: 0;max-width: 0;overflow: hidden;text-align: left;background-color: #f0f8ff;}#sk-container-id-1 div.sk-toggleable__content pre {margin: 0.2em;color: black;border-radius: 0.25em;background-color: #f0f8ff;}#sk-container-id-1 input.sk-toggleable__control:checked~div.sk-toggleable__content {max-height: 200px;max-width: 100%;overflow: auto;}#sk-container-id-1 input.sk-toggleable__control:checked~label.sk-toggleable__label-arrow:before {content: \"▾\";}#sk-container-id-1 div.sk-estimator input.sk-toggleable__control:checked~label.sk-toggleable__label {background-color: #d4ebff;}#sk-container-id-1 div.sk-label input.sk-toggleable__control:checked~label.sk-toggleable__label {background-color: #d4ebff;}#sk-container-id-1 input.sk-hidden--visually {border: 0;clip: rect(1px 1px 1px 1px);clip: rect(1px, 1px, 1px, 1px);height: 1px;margin: -1px;overflow: hidden;padding: 0;position: absolute;width: 1px;}#sk-container-id-1 div.sk-estimator {font-family: monospace;background-color: #f0f8ff;border: 1px dotted black;border-radius: 0.25em;box-sizing: border-box;margin-bottom: 0.5em;}#sk-container-id-1 div.sk-estimator:hover {background-color: #d4ebff;}#sk-container-id-1 div.sk-parallel-item::after {content: \"\";width: 100%;border-bottom: 1px solid gray;flex-grow: 1;}#sk-container-id-1 div.sk-label:hover label.sk-toggleable__label {background-color: #d4ebff;}#sk-container-id-1 div.sk-serial::before {content: \"\";position: absolute;border-left: 1px solid gray;box-sizing: border-box;top: 0;bottom: 0;left: 50%;z-index: 0;}#sk-container-id-1 div.sk-serial {display: flex;flex-direction: column;align-items: center;background-color: white;padding-right: 0.2em;padding-left: 0.2em;position: relative;}#sk-container-id-1 div.sk-item {position: relative;z-index: 1;}#sk-container-id-1 div.sk-parallel {display: flex;align-items: stretch;justify-content: center;background-color: white;position: relative;}#sk-container-id-1 div.sk-item::before, #sk-container-id-1 div.sk-parallel-item::before {content: \"\";position: absolute;border-left: 1px solid gray;box-sizing: border-box;top: 0;bottom: 0;left: 50%;z-index: -1;}#sk-container-id-1 div.sk-parallel-item {display: flex;flex-direction: column;z-index: 1;position: relative;background-color: white;}#sk-container-id-1 div.sk-parallel-item:first-child::after {align-self: flex-end;width: 50%;}#sk-container-id-1 div.sk-parallel-item:last-child::after {align-self: flex-start;width: 50%;}#sk-container-id-1 div.sk-parallel-item:only-child::after {width: 0;}#sk-container-id-1 div.sk-dashed-wrapped {border: 1px dashed gray;margin: 0 0.4em 0.5em 0.4em;box-sizing: border-box;padding-bottom: 0.4em;background-color: white;}#sk-container-id-1 div.sk-label label {font-family: monospace;font-weight: bold;display: inline-block;line-height: 1.2em;}#sk-container-id-1 div.sk-label-container {text-align: center;}#sk-container-id-1 div.sk-container {/* jupyter's `normalize.less` sets `[hidden] { display: none; }` but bootstrap.min.css set `[hidden] { display: none !important; }` so we also need the `!important` here to be able to override the default hidden behavior on the sphinx rendered scikit-learn.org. See: https://github.com/scikit-learn/scikit-learn/issues/21755 */display: inline-block !important;position: relative;}#sk-container-id-1 div.sk-text-repr-fallback {display: none;}</style><div id=\"sk-container-id-1\" class=\"sk-top-container\"><div class=\"sk-text-repr-fallback\"><pre>LogisticRegression(solver=&#x27;liblinear&#x27;)</pre><b>In a Jupyter environment, please rerun this cell to show the HTML representation or trust the notebook. <br />On GitHub, the HTML representation is unable to render, please try loading this page with nbviewer.org.</b></div><div class=\"sk-container\" hidden><div class=\"sk-item\"><div class=\"sk-estimator sk-toggleable\"><input class=\"sk-toggleable__control sk-hidden--visually\" id=\"sk-estimator-id-1\" type=\"checkbox\" checked><label for=\"sk-estimator-id-1\" class=\"sk-toggleable__label sk-toggleable__label-arrow\">LogisticRegression</label><div class=\"sk-toggleable__content\"><pre>LogisticRegression(solver=&#x27;liblinear&#x27;)</pre></div></div></div></div></div>"
      ],
      "text/plain": [
       "LogisticRegression(solver='liblinear')"
      ]
     },
     "execution_count": 5,
     "metadata": {},
     "output_type": "execute_result"
    }
   ],
   "source": [
    "logreg1 = LogisticRegression (solver = 'liblinear')\n",
    "logreg1.fit (x_train, y_train)"
   ]
  },
  {
   "cell_type": "code",
   "execution_count": 6,
   "id": "e0deee39",
   "metadata": {},
   "outputs": [],
   "source": [
    "y_pred1 = logreg1.predict (x_test)"
   ]
  },
  {
   "cell_type": "code",
   "execution_count": 7,
   "id": "39bcd6f8",
   "metadata": {},
   "outputs": [
    {
     "name": "stdout",
     "output_type": "stream",
     "text": [
      "Accuracy: 0.8072916666666666\n"
     ]
    }
   ],
   "source": [
    "print (\"Accuracy:\", metrics.accuracy_score (y_test, y_pred1))"
   ]
  },
  {
   "cell_type": "code",
   "execution_count": 8,
   "id": "8524720a",
   "metadata": {},
   "outputs": [
    {
     "data": {
      "image/png": "[encoded data removed]",
      "text/plain": [
       "<Figure size 200x200 with 1 Axes>"
      ]
     },
     "metadata": {},
     "output_type": "display_data"
    },
    {
     "name": "stdout",
     "output_type": "stream",
     "text": [
      "              precision    recall  f1-score   support\n",
      "\n",
      "           0       0.79      0.89      0.83       500\n",
      "           1       0.72      0.55      0.63       268\n",
      "\n",
      "    accuracy                           0.77       768\n",
      "   macro avg       0.75      0.72      0.73       768\n",
      "weighted avg       0.76      0.77      0.76       768\n",
      "\n"
     ]
    }
   ],
   "source": [
    "cm = confusion_matrix (y , logreg1.predict (x))\n",
    "fig, ax = plt.subplots (figsize = (2,2))\n",
    "ax.imshow (cm)\n",
    "ax.set_xticks([0, 1])\n",
    "ax.set_xticklabels(['Predicted 0s', 'Predicted 1s'], fontsize=8)\n",
    "ax.set_yticks([0, 1])\n",
    "ax.set_yticklabels(['Actual 0s', 'Actual 1s'], fontsize=8)\n",
    "\n",
    "#ax.set_ylim (1.5, -0.5)\n",
    "for i in range (2):\n",
    "    for j in range (2):\n",
    "        ax.text(j, i, cm[i, j], ha='center', va='center', color='white', fontsize=14)\n",
    "        \n",
    "rect = plt.Rectangle((0 - 0.5, 1 - 0.5), 1, 1, linewidth=2, edgecolor='red', facecolor='red')\n",
    "ax.add_patch(rect)     \n",
    "\n",
    "plt.show ()\n",
    "print ( classification_report (y,logreg1.predict(x)))"
   ]
  },
  {
   "cell_type": "markdown",
   "id": "e23d818c",
   "metadata": {},
   "source": [
    "<span style=\"color:orange\">****solver = newton-cg**\n",
    "\n",
    "- This solver uses Newton's method with a conjugate gradient optimization.\n",
    "- It is based on Newton's method and requires computing the Hessian matrix of the loss function.\n",
    "- 'newton-cg' is more suitable for smaller datasets where the Hessian matrix can be computed efficiently."
   ]
  },
  {
   "cell_type": "code",
   "execution_count": 1,
   "id": "2555b429",
   "metadata": {},
   "outputs": [
    {
     "ename": "NameError",
     "evalue": "name 'LogisticRegression' is not defined",
     "output_type": "error",
     "traceback": [
      "\u001b[1;31m---------------------------------------------------------------------------\u001b[0m",
      "\u001b[1;31mNameError\u001b[0m                                 Traceback (most recent call last)",
      "Cell \u001b[1;32mIn[1], line 1\u001b[0m\n\u001b[1;32m----> 1\u001b[0m logreg2 \u001b[38;5;241m=\u001b[39m LogisticRegression (solver \u001b[38;5;241m=\u001b[39m \u001b[38;5;124m'\u001b[39m\u001b[38;5;124mnewton-cg\u001b[39m\u001b[38;5;124m'\u001b[39m)\n\u001b[0;32m      2\u001b[0m logreg2\u001b[38;5;241m.\u001b[39mfit (x_train, y_train)\n\u001b[0;32m      3\u001b[0m y_pred2 \u001b[38;5;241m=\u001b[39m logreg1\u001b[38;5;241m.\u001b[39mpredict (x_test)\n",
      "\u001b[1;31mNameError\u001b[0m: name 'LogisticRegression' is not defined"
     ]
    }
   ],
   "source": [
    "logreg2 = LogisticRegression (solver = 'newton-cg')\n",
    "logreg2.fit (x_train, y_train)\n",
    "y_pred2 = logreg1.predict (x_test)\n",
    "print (\"Accuracy:\", metrics.accuracy_score (y_test, y_pred2))"
   ]
  },
  {
   "cell_type": "code",
   "execution_count": 10,
   "id": "f512d5f4",
   "metadata": {},
   "outputs": [
    {
     "data": {
      "image/png": "[encoded data removed]",
      "text/plain": [
       "<Figure size 200x200 with 1 Axes>"
      ]
     },
     "metadata": {},
     "output_type": "display_data"
    },
    {
     "name": "stdout",
     "output_type": "stream",
     "text": [
      "              precision    recall  f1-score   support\n",
      "\n",
      "           0       0.79      0.88      0.83       500\n",
      "           1       0.71      0.57      0.63       268\n",
      "\n",
      "    accuracy                           0.77       768\n",
      "   macro avg       0.75      0.72      0.73       768\n",
      "weighted avg       0.76      0.77      0.76       768\n",
      "\n"
     ]
    }
   ],
   "source": [
    "cm2 = confusion_matrix (y , logreg2.predict (x))\n",
    "fig, ax = plt.subplots (figsize = (2,2))\n",
    "ax.imshow (cm2)\n",
    "ax.set_xticks([0, 1])\n",
    "ax.set_xticklabels(['Predicted 0s', 'Predicted 1s'], fontsize=8)\n",
    "ax.set_yticks([0, 1])\n",
    "ax.set_yticklabels(['Actual 0s', 'Actual 1s'], fontsize=8)\n",
    "\n",
    "#ax.set_ylim (1.5, -0.5)\n",
    "for i in range (2):\n",
    "    for j in range (2):\n",
    "        ax.text(j, i, cm2[i, j], ha='center', va='center', color='white', fontsize=14)\n",
    "rect = plt.Rectangle((0 - 0.5, 1 - 0.5), 1, 1, linewidth=2, edgecolor='red', facecolor='red')\n",
    "ax.add_patch(rect)            \n",
    "plt.show ()\n",
    "print ( classification_report (y,logreg2.predict(x)))"
   ]
  },
  {
   "cell_type": "markdown",
   "id": "b9e1e78e",
   "metadata": {},
   "source": [
    "<span style=\"color:orange\">****solver = 'lbfgs' (Limited-memory Broyden–Fletcher–Goldfarb–Shanno)**\n",
    "\n",
    "- This solver approximates the second-order derivative matrix (Hessian matrix) of the objective function.\n",
    "- 'lbfgs' is suitable for smaller datasets and typically converges faster than 'newton-cg' for logistic regression problems."
   ]
  },
  {
   "cell_type": "code",
   "execution_count": 11,
   "id": "574a49ca",
   "metadata": {},
   "outputs": [
    {
     "name": "stdout",
     "output_type": "stream",
     "text": [
      "Accuracy: 0.8072916666666666\n"
     ]
    },
    {
     "name": "stderr",
     "output_type": "stream",
     "text": [
      "C:\\Users\\Sara\\anaconda3\\Lib\\site-packages\\sklearn\\linear_model\\_logistic.py:460: ConvergenceWarning: lbfgs failed to converge (status=1):\n",
      "STOP: TOTAL NO. of ITERATIONS REACHED LIMIT.\n",
      "\n",
      "Increase the number of iterations (max_iter) or scale the data as shown in:\n",
      "    https://scikit-learn.org/stable/modules/preprocessing.html\n",
      "Please also refer to the documentation for alternative solver options:\n",
      "    https://scikit-learn.org/stable/modules/linear_model.html#logistic-regression\n",
      "  n_iter_i = _check_optimize_result(\n"
     ]
    }
   ],
   "source": [
    "logreg3 = LogisticRegression (solver = 'lbfgs')\n",
    "logreg3.fit (x_train, y_train)\n",
    "y_pred3 = logreg1.predict (x_test)\n",
    "print (\"Accuracy:\", metrics.accuracy_score (y_test, y_pred3))"
   ]
  },
  {
   "cell_type": "code",
   "execution_count": 12,
   "id": "779fdaee",
   "metadata": {},
   "outputs": [
    {
     "data": {
      "image/png": "[encoded data removed]",
      "text/plain": [
       "<Figure size 200x200 with 1 Axes>"
      ]
     },
     "metadata": {},
     "output_type": "display_data"
    },
    {
     "name": "stdout",
     "output_type": "stream",
     "text": [
      "              precision    recall  f1-score   support\n",
      "\n",
      "           0       0.80      0.88      0.84       500\n",
      "           1       0.72      0.59      0.65       268\n",
      "\n",
      "    accuracy                           0.78       768\n",
      "   macro avg       0.76      0.73      0.74       768\n",
      "weighted avg       0.77      0.78      0.77       768\n",
      "\n"
     ]
    }
   ],
   "source": [
    "cm3 = confusion_matrix (y , logreg3.predict (x))\n",
    "fig, ax = plt.subplots (figsize = (2,2))\n",
    "ax.imshow (cm3)\n",
    "ax.set_xticks([0, 1])\n",
    "ax.set_xticklabels(['Predicted 0s', 'Predicted 1s'], fontsize=8)\n",
    "ax.set_yticks([0, 1])\n",
    "ax.set_yticklabels(['Actual 0s', 'Actual 1s'], fontsize=8)\n",
    "\n",
    "#ax.set_ylim (1.5, -0.5)\n",
    "for i in range (2):\n",
    "    for j in range (2):\n",
    "        ax.text(j, i, cm3[i, j], ha='center', va='center', color='white', fontsize=14)\n",
    "rect = plt.Rectangle((0 - 0.5, 1 - 0.5), 1, 1, linewidth=2, edgecolor='red', facecolor='red')\n",
    "ax.add_patch(rect)            \n",
    "plt.show ()\n",
    "print ( classification_report (y,logreg3.predict(x)))"
   ]
  },
  {
   "cell_type": "markdown",
   "id": "0b0e4f92",
   "metadata": {},
   "source": [
    "<span style=\"color:orange\">**Solver = sag (Stochastic Average Gradient descent)**\n",
    "\n",
    "- This solver uses a stochastic gradient descent method for optimization.\n",
    "- It is efficient for large-scale problems and is designed to handle large datasets efficiently.\n",
    "- 'sag' can also handle sparse input data."
   ]
  },
  {
   "cell_type": "code",
   "execution_count": 13,
   "id": "bfdc503d",
   "metadata": {},
   "outputs": [
    {
     "name": "stdout",
     "output_type": "stream",
     "text": [
      "Accuracy: 0.8072916666666666\n"
     ]
    },
    {
     "name": "stderr",
     "output_type": "stream",
     "text": [
      "C:\\Users\\Sara\\anaconda3\\Lib\\site-packages\\sklearn\\linear_model\\_sag.py:350: ConvergenceWarning: The max_iter was reached which means the coef_ did not converge\n",
      "  warnings.warn(\n"
     ]
    }
   ],
   "source": [
    "logreg4 = LogisticRegression (solver = 'sag')\n",
    "logreg4.fit (x_train, y_train)\n",
    "y_pred4 = logreg1.predict (x_test)\n",
    "print (\"Accuracy:\", metrics.accuracy_score (y_test, y_pred4))"
   ]
  },
  {
   "cell_type": "code",
   "execution_count": 14,
   "id": "830bd730",
   "metadata": {},
   "outputs": [
    {
     "data": {
      "image/png": "[encoded data removed]",
      "text/plain": [
       "<Figure size 200x200 with 1 Axes>"
      ]
     },
     "metadata": {},
     "output_type": "display_data"
    },
    {
     "name": "stdout",
     "output_type": "stream",
     "text": [
      "              precision    recall  f1-score   support\n",
      "\n",
      "           0       0.71      0.89      0.79       500\n",
      "           1       0.60      0.30      0.40       268\n",
      "\n",
      "    accuracy                           0.69       768\n",
      "   macro avg       0.65      0.60      0.60       768\n",
      "weighted avg       0.67      0.69      0.65       768\n",
      "\n"
     ]
    }
   ],
   "source": [
    "cm4 = confusion_matrix (y , logreg4.predict (x))\n",
    "fig, ax = plt.subplots (figsize = (2,2))\n",
    "ax.imshow (cm4)\n",
    "ax.set_xticks([0, 1])\n",
    "ax.set_xticklabels(['Predicted 0s', 'Predicted 1s'], fontsize=8)\n",
    "ax.set_yticks([0, 1])\n",
    "ax.set_yticklabels(['Actual 0s', 'Actual 1s'], fontsize=8)\n",
    "\n",
    "#ax.set_ylim (1.5, -0.5)\n",
    "for i in range (2):\n",
    "    for j in range (2):\n",
    "        ax.text(j, i, cm4[i, j], ha='center', va='center', color='white', fontsize=14)\n",
    "rect = plt.Rectangle((0 - 0.5, 1 - 0.5), 1, 1, linewidth=2, edgecolor='red', facecolor='red')\n",
    "ax.add_patch(rect)            \n",
    "plt.show ()\n",
    "print ( classification_report (y,logreg4.predict(x)))"
   ]
  },
  {
   "cell_type": "markdown",
   "id": "e676e5b1",
   "metadata": {},
   "source": [
    "<span style=\"color:orange\">**Solver = saga (SAGA: Stochastic Average Gradient descent solver for L1-regularized logistic regression)**\n",
    "\n",
    "- This solver is a variant of 'sag' that also supports L1 regularization.\n",
    "- It is suitable for large-scale problems with sparse input data and is more efficient for problems with a large number of samples and features."
   ]
  },
  {
   "cell_type": "code",
   "execution_count": 15,
   "id": "637b6680",
   "metadata": {},
   "outputs": [
    {
     "name": "stdout",
     "output_type": "stream",
     "text": [
      "Accuracy: 0.8072916666666666\n"
     ]
    },
    {
     "name": "stderr",
     "output_type": "stream",
     "text": [
      "C:\\Users\\Sara\\anaconda3\\Lib\\site-packages\\sklearn\\linear_model\\_sag.py:350: ConvergenceWarning: The max_iter was reached which means the coef_ did not converge\n",
      "  warnings.warn(\n"
     ]
    }
   ],
   "source": [
    "logreg5 = LogisticRegression (solver = 'saga')\n",
    "logreg5.fit (x_train, y_train)\n",
    "y_pred5 = logreg1.predict (x_test)\n",
    "print (\"Accuracy:\", metrics.accuracy_score (y_test, y_pred5))"
   ]
  },
  {
   "cell_type": "code",
   "execution_count": 16,
   "id": "4ce63bb4",
   "metadata": {},
   "outputs": [
    {
     "data": {
      "image/png": "[encoded data removed]",
      "text/plain": [
       "<Figure size 200x200 with 1 Axes>"
      ]
     },
     "metadata": {},
     "output_type": "display_data"
    },
    {
     "name": "stdout",
     "output_type": "stream",
     "text": [
      "              precision    recall  f1-score   support\n",
      "\n",
      "           0       0.70      0.89      0.78       500\n",
      "           1       0.59      0.29      0.39       268\n",
      "\n",
      "    accuracy                           0.68       768\n",
      "   macro avg       0.64      0.59      0.59       768\n",
      "weighted avg       0.66      0.68      0.65       768\n",
      "\n"
     ]
    }
   ],
   "source": [
    "cm5 = confusion_matrix (y , logreg5.predict (x))\n",
    "fig, ax = plt.subplots (figsize = (2,2))\n",
    "ax.imshow (cm5)\n",
    "ax.set_xticks([0, 1])\n",
    "ax.set_xticklabels(['Predicted 0s', 'Predicted 1s'], fontsize=8)\n",
    "ax.set_yticks([0, 1])\n",
    "ax.set_yticklabels(['Actual 0s', 'Actual 1s'], fontsize=8)\n",
    "\n",
    "#ax.set_ylim (1.5, -0.5)\n",
    "for i in range (2):\n",
    "    for j in range (2):\n",
    "        ax.text(j, i, cm5[i, j], ha='center', va='center', color='white', fontsize=14)\n",
    "rect = plt.Rectangle((0 - 0.5, 1 - 0.5), 1, 1, linewidth=2, edgecolor='red', facecolor='red')\n",
    "ax.add_patch(rect)            \n",
    "plt.show ()\n",
    "print ( classification_report (y,logreg5.predict(x)))"
   ]
  },
  {
   "cell_type": "markdown",
   "id": "9ee9b237",
   "metadata": {},
   "source": [
    "# Comparing the results of Solver Models "
   ]
  },
  {
   "cell_type": "code",
   "execution_count": 17,
   "id": "67b33624",
   "metadata": {},
   "outputs": [
    {
     "data": {
      "text/html": [
       "<div>\n",
       "<style scoped>\n",
       "    .dataframe tbody tr th:only-of-type {\n",
       "        vertical-align: middle;\n",
       "    }\n",
       "\n",
       "    .dataframe tbody tr th {\n",
       "        vertical-align: top;\n",
       "    }\n",
       "\n",
       "    .dataframe thead th {\n",
       "        text-align: right;\n",
       "    }\n",
       "</style>\n",
       "<table border=\"1\" class=\"dataframe\">\n",
       "  <thead>\n",
       "    <tr style=\"text-align: right;\">\n",
       "      <th></th>\n",
       "      <th>Report</th>\n",
       "      <th>liblinear</th>\n",
       "      <th>newton_cg</th>\n",
       "      <th>lbfgs</th>\n",
       "      <th>sag</th>\n",
       "      <th>saga</th>\n",
       "    </tr>\n",
       "  </thead>\n",
       "  <tbody>\n",
       "    <tr>\n",
       "      <th>0</th>\n",
       "      <td>Model Accuracy</td>\n",
       "      <td>0.807291</td>\n",
       "      <td>0.807291</td>\n",
       "      <td>0.807291</td>\n",
       "      <td>0.807291</td>\n",
       "      <td>0.807291</td>\n",
       "    </tr>\n",
       "    <tr>\n",
       "      <th>1</th>\n",
       "      <td>TP</td>\n",
       "      <td>148</td>\n",
       "      <td>152</td>\n",
       "      <td>157</td>\n",
       "      <td>81</td>\n",
       "      <td>78</td>\n",
       "    </tr>\n",
       "    <tr>\n",
       "      <th>2</th>\n",
       "      <td>TN</td>\n",
       "      <td>443</td>\n",
       "      <td>439</td>\n",
       "      <td>439</td>\n",
       "      <td>447</td>\n",
       "      <td>445</td>\n",
       "    </tr>\n",
       "    <tr>\n",
       "      <th>3</th>\n",
       "      <td>FP</td>\n",
       "      <td>57</td>\n",
       "      <td>61</td>\n",
       "      <td>61</td>\n",
       "      <td>53</td>\n",
       "      <td>55</td>\n",
       "    </tr>\n",
       "    <tr>\n",
       "      <th>4</th>\n",
       "      <td>FN</td>\n",
       "      <td>120</td>\n",
       "      <td>116</td>\n",
       "      <td>111</td>\n",
       "      <td>187</td>\n",
       "      <td>190</td>\n",
       "    </tr>\n",
       "    <tr>\n",
       "      <th>5</th>\n",
       "      <td>f1Score</td>\n",
       "      <td>0.77</td>\n",
       "      <td>0.77</td>\n",
       "      <td>0.78</td>\n",
       "      <td>0.69</td>\n",
       "      <td>0.68</td>\n",
       "    </tr>\n",
       "  </tbody>\n",
       "</table>\n",
       "</div>"
      ],
      "text/plain": [
       "           Report liblinear newton_cg     lbfgs       sag      saga\n",
       "0  Model Accuracy  0.807291  0.807291  0.807291  0.807291  0.807291\n",
       "1              TP       148       152       157        81        78\n",
       "2              TN       443       439       439       447       445\n",
       "3              FP        57        61        61        53        55\n",
       "4              FN       120       116       111       187       190\n",
       "5         f1Score      0.77      0.77      0.78      0.69      0.68"
      ]
     },
     "execution_count": 17,
     "metadata": {},
     "output_type": "execute_result"
    }
   ],
   "source": [
    "solver = {\n",
    "    'Report': ['Model Accuracy', 'TP', 'TN' , 'FP', 'FN', 'f1Score'],  \n",
    "    'liblinear': ['0.807291', '148', '443', '57', '120', '0.77'], \n",
    "    'newton_cg': ['0.807291', '152', '439' , '61', '116', '0.77'],\n",
    "    'lbfgs': ['0.807291', '157', '439' , '61', '111', '0.78'],\n",
    "    'sag': ['0.807291', '81', '447' , '53', '187', '0.69'],\n",
    "    'saga': ['0.807291', '78', '445' , '55', '190', '0.68'],\n",
    "}\n",
    "\n",
    "Report_Table = pd.DataFrame(solver)\n",
    "Report_Table "
   ]
  },
  {
   "cell_type": "markdown",
   "id": "8201156a",
   "metadata": {},
   "source": [
    "<span style=\"color:red\">The number of True Positives are decreasing from left to right, \n",
    "Which indicates that the solvers may have biased behaviour over the result. \n",
    "\n",
    "<span style=\"color:green\">**Based on the \"False Negative\" numbers, it seems that 'lbfgs' solver is showing the best response as we are diagnosing diabates in patients, so it is better to increase cautious of the model.** \n",
    "\n",
    "# Selecting 'lbfgs', Let's work on more variables of the solver "
   ]
  },
  {
   "cell_type": "code",
   "execution_count": 18,
   "id": "4ac50f53",
   "metadata": {},
   "outputs": [
    {
     "name": "stdout",
     "output_type": "stream",
     "text": [
      "Accuracy: 0.8020833333333334\n"
     ]
    }
   ],
   "source": [
    "logreg3_1 = LogisticRegression(solver='lbfgs', C=10.0, class_weight=None, dual=False,   \n",
    "                                fit_intercept=True, intercept_scaling=1, l1_ratio=None,\n",
    "                                max_iter=500, random_state=0, tol=0.0001,      #increased num of iteration to remove the error \n",
    "                                verbose=0, warm_start=False)  \n",
    "\n",
    "logreg3_1.fit(x_train, y_train)\n",
    "y_pred3_1 = logreg3_1.predict(x_test)\n",
    "print(\"Accuracy:\", metrics.accuracy_score(y_test, y_pred3_1))"
   ]
  },
  {
   "cell_type": "markdown",
   "id": "54215a72",
   "metadata": {},
   "source": [
    "- 1- C=10.0: The regularization parameter C controls the inverse of regularization strength. A smaller value of C indicates stronger regularization, meaning the model will generalize better but might underfit the data. Conversely, a larger value of C indicates weaker regularization, allowing the model to fit the training data more closely but risking overfitting.\n",
    "\n",
    "\n",
    "- 2- class_weight=None: This parameter specifies the weights associated with classes in the target variable. When set to None, all classes are treated equally. However, if your classes are imbalanced, you can set class_weight to 'balanced' to automatically adjust the weights inversely proportional to class frequencies.\n",
    "\n",
    "\n",
    "- 3- dual=False: This parameter determines whether to solve the primal or the dual optimization problem. When dual=False, the primal problem is solved, which is usually preferred when the number of samples (n_samples) is greater than the number of features (n_features).\n",
    "\n",
    "\n",
    "- 4- fit_intercept=True: This parameter specifies whether to calculate the intercept for this model. If set to True, the intercept will be calculated.\n",
    "\n",
    "\n",
    "- 5- intercept_scaling=1: This parameter is only used when fit_intercept=True. It scales the intercept along with the regularization term. Increasing intercept_scaling can be useful when fit_intercept=True and solver='liblinear' if the data is not centered.\n",
    "\n",
    "\n",
    "- 6- l1_ratio=None: This parameter is used for elastic-net regularization when penalty='elasticnet'. It controls the ratio of L1 penalty to L2 penalty.\n",
    "\n",
    "\n",
    "- 7- max_iter=100: This parameter specifies the maximum number of iterations taken for the optimization algorithm to converge.\n",
    "\n",
    "\n",
    "- 8- random_state=0: This parameter sets the seed for random number generation. It ensures reproducibility of results when the model is trained multiple times.\n",
    "\n",
    "\n",
    "- 9- tol=0.0001: This parameter sets the tolerance for the optimization algorithm. The optimization process stops when the change in the objective function is less than tol.\n",
    "\n",
    "\n",
    "- 10- verbose=0: This parameter controls the verbosity of the output during the optimization process. Setting it to 0 means no output.\n",
    "\n",
    "\n",
    "- 11- warm_start=False: This parameter allows reusing the solution of the previous call to fit as initialization. It's useful for adding more training samples to an already trained model without having to retrain from scratch."
   ]
  },
  {
   "cell_type": "markdown",
   "id": "b7642593",
   "metadata": {},
   "source": [
    "<span style=\"color:green\">**L1 Regularization (Lasso Regression)--- adds a penalty term to the cost function proportional to the absolute value of the coefficients.**\n",
    "\n",
    "<span style=\"color:green\">**L2 Regularization (Ridge Regression)--- adds a penalty term to the cost function proportional to the square of the coefficients.**</span>"
   ]
  },
  {
   "cell_type": "markdown",
   "id": "99eecd28",
   "metadata": {},
   "source": [
    "# Conclusion \n",
    "\n",
    "<span style=\"color:blue\">**So, we conclude that these parameters can be controlled based on our model, the loss function and cost of the prediction. For example, for disease recognition its better to train the model to be at its maximum cautious.**\n",
    "</span>"
   ]
  }
 ],
 "metadata": {
  "kernelspec": {
   "display_name": "Python 3 (ipykernel)",
   "language": "python",
   "name": "python3"
  },
  "language_info": {
   "codemirror_mode": {
    "name": "ipython",
    "version": 3
   },
   "file_extension": ".py",
   "mimetype": "text/x-python",
   "name": "python",
   "nbconvert_exporter": "python",
   "pygments_lexer": "ipython3",
   "version": "3.11.5"
  }
 },
 "nbformat": 4,
 "nbformat_minor": 5
}
